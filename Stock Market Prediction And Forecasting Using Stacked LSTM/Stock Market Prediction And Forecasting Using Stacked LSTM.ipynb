{
 "cells": [
  {
   "cell_type": "markdown",
   "metadata": {},
   "source": [
    "# <center>LGMVIP - DataScience"
   ]
  },
  {
   "cell_type": "markdown",
   "metadata": {},
   "source": [
    "## <center>Author - Prabin Kumar Mohanta"
   ]
  },
  {
   "cell_type": "markdown",
   "metadata": {},
   "source": [
    "## <center>BEGINNER LEVEL TASK"
   ]
  },
  {
   "cell_type": "markdown",
   "metadata": {},
   "source": [
    "## <center>Task : Stock Market Prediction And Forecasting Using Stacked LSTM"
   ]
  },
  {
   "cell_type": "markdown",
   "metadata": {},
   "source": [
    "<b><center>In this task, we will predict the stock price usnig Stacked LSTM."
   ]
  },
  {
   "cell_type": "code",
   "execution_count": 1,
   "metadata": {},
   "outputs": [],
   "source": [
    "#Importing Libraries\n",
    "import numpy as np\n",
    "import pandas as pd\n",
    "import matplotlib.pyplot as plt\n",
    "import seaborn as sns\n",
    "%matplotlib inline"
   ]
  },
  {
   "cell_type": "code",
   "execution_count": 2,
   "metadata": {},
   "outputs": [],
   "source": [
    "data = pd.read_csv('https://raw.githubusercontent.com/mwitiderrick/stockprice/master/NSE-TATAGLOBAL.csv')"
   ]
  },
  {
   "cell_type": "code",
   "execution_count": 3,
   "metadata": {},
   "outputs": [
    {
     "data": {
      "text/html": [
       "<div>\n",
       "<style scoped>\n",
       "    .dataframe tbody tr th:only-of-type {\n",
       "        vertical-align: middle;\n",
       "    }\n",
       "\n",
       "    .dataframe tbody tr th {\n",
       "        vertical-align: top;\n",
       "    }\n",
       "\n",
       "    .dataframe thead th {\n",
       "        text-align: right;\n",
       "    }\n",
       "</style>\n",
       "<table border=\"1\" class=\"dataframe\">\n",
       "  <thead>\n",
       "    <tr style=\"text-align: right;\">\n",
       "      <th></th>\n",
       "      <th>Date</th>\n",
       "      <th>Open</th>\n",
       "      <th>High</th>\n",
       "      <th>Low</th>\n",
       "      <th>Last</th>\n",
       "      <th>Close</th>\n",
       "      <th>Total Trade Quantity</th>\n",
       "      <th>Turnover (Lacs)</th>\n",
       "    </tr>\n",
       "  </thead>\n",
       "  <tbody>\n",
       "    <tr>\n",
       "      <th>0</th>\n",
       "      <td>2018-09-28</td>\n",
       "      <td>234.05</td>\n",
       "      <td>235.95</td>\n",
       "      <td>230.20</td>\n",
       "      <td>233.50</td>\n",
       "      <td>233.75</td>\n",
       "      <td>3069914</td>\n",
       "      <td>7162.35</td>\n",
       "    </tr>\n",
       "    <tr>\n",
       "      <th>1</th>\n",
       "      <td>2018-09-27</td>\n",
       "      <td>234.55</td>\n",
       "      <td>236.80</td>\n",
       "      <td>231.10</td>\n",
       "      <td>233.80</td>\n",
       "      <td>233.25</td>\n",
       "      <td>5082859</td>\n",
       "      <td>11859.95</td>\n",
       "    </tr>\n",
       "    <tr>\n",
       "      <th>2</th>\n",
       "      <td>2018-09-26</td>\n",
       "      <td>240.00</td>\n",
       "      <td>240.00</td>\n",
       "      <td>232.50</td>\n",
       "      <td>235.00</td>\n",
       "      <td>234.25</td>\n",
       "      <td>2240909</td>\n",
       "      <td>5248.60</td>\n",
       "    </tr>\n",
       "    <tr>\n",
       "      <th>3</th>\n",
       "      <td>2018-09-25</td>\n",
       "      <td>233.30</td>\n",
       "      <td>236.75</td>\n",
       "      <td>232.00</td>\n",
       "      <td>236.25</td>\n",
       "      <td>236.10</td>\n",
       "      <td>2349368</td>\n",
       "      <td>5503.90</td>\n",
       "    </tr>\n",
       "    <tr>\n",
       "      <th>4</th>\n",
       "      <td>2018-09-24</td>\n",
       "      <td>233.55</td>\n",
       "      <td>239.20</td>\n",
       "      <td>230.75</td>\n",
       "      <td>234.00</td>\n",
       "      <td>233.30</td>\n",
       "      <td>3423509</td>\n",
       "      <td>7999.55</td>\n",
       "    </tr>\n",
       "  </tbody>\n",
       "</table>\n",
       "</div>"
      ],
      "text/plain": [
       "         Date    Open    High     Low    Last   Close  Total Trade Quantity  \\\n",
       "0  2018-09-28  234.05  235.95  230.20  233.50  233.75               3069914   \n",
       "1  2018-09-27  234.55  236.80  231.10  233.80  233.25               5082859   \n",
       "2  2018-09-26  240.00  240.00  232.50  235.00  234.25               2240909   \n",
       "3  2018-09-25  233.30  236.75  232.00  236.25  236.10               2349368   \n",
       "4  2018-09-24  233.55  239.20  230.75  234.00  233.30               3423509   \n",
       "\n",
       "   Turnover (Lacs)  \n",
       "0          7162.35  \n",
       "1         11859.95  \n",
       "2          5248.60  \n",
       "3          5503.90  \n",
       "4          7999.55  "
      ]
     },
     "execution_count": 3,
     "metadata": {},
     "output_type": "execute_result"
    }
   ],
   "source": [
    "data.head()"
   ]
  },
  {
   "cell_type": "code",
   "execution_count": 4,
   "metadata": {},
   "outputs": [
    {
     "data": {
      "text/plain": [
       "(2035, 8)"
      ]
     },
     "execution_count": 4,
     "metadata": {},
     "output_type": "execute_result"
    }
   ],
   "source": [
    "data.shape"
   ]
  },
  {
   "cell_type": "code",
   "execution_count": 5,
   "metadata": {},
   "outputs": [
    {
     "name": "stdout",
     "output_type": "stream",
     "text": [
      "<class 'pandas.core.frame.DataFrame'>\n",
      "RangeIndex: 2035 entries, 0 to 2034\n",
      "Data columns (total 8 columns):\n",
      " #   Column                Non-Null Count  Dtype  \n",
      "---  ------                --------------  -----  \n",
      " 0   Date                  2035 non-null   object \n",
      " 1   Open                  2035 non-null   float64\n",
      " 2   High                  2035 non-null   float64\n",
      " 3   Low                   2035 non-null   float64\n",
      " 4   Last                  2035 non-null   float64\n",
      " 5   Close                 2035 non-null   float64\n",
      " 6   Total Trade Quantity  2035 non-null   int64  \n",
      " 7   Turnover (Lacs)       2035 non-null   float64\n",
      "dtypes: float64(6), int64(1), object(1)\n",
      "memory usage: 127.3+ KB\n"
     ]
    }
   ],
   "source": [
    "data.info()"
   ]
  },
  {
   "cell_type": "code",
   "execution_count": 6,
   "metadata": {},
   "outputs": [
    {
     "data": {
      "text/plain": [
       "False"
      ]
     },
     "execution_count": 6,
     "metadata": {},
     "output_type": "execute_result"
    }
   ],
   "source": [
    "data.isnull().values.any()"
   ]
  },
  {
   "cell_type": "code",
   "execution_count": 7,
   "metadata": {},
   "outputs": [
    {
     "data": {
      "text/plain": [
       "False"
      ]
     },
     "execution_count": 7,
     "metadata": {},
     "output_type": "execute_result"
    }
   ],
   "source": [
    "data.duplicated().values.any()"
   ]
  },
  {
   "cell_type": "code",
   "execution_count": 8,
   "metadata": {},
   "outputs": [
    {
     "data": {
      "text/html": [
       "<div>\n",
       "<style scoped>\n",
       "    .dataframe tbody tr th:only-of-type {\n",
       "        vertical-align: middle;\n",
       "    }\n",
       "\n",
       "    .dataframe tbody tr th {\n",
       "        vertical-align: top;\n",
       "    }\n",
       "\n",
       "    .dataframe thead th {\n",
       "        text-align: right;\n",
       "    }\n",
       "</style>\n",
       "<table border=\"1\" class=\"dataframe\">\n",
       "  <thead>\n",
       "    <tr style=\"text-align: right;\">\n",
       "      <th></th>\n",
       "      <th>Open</th>\n",
       "      <th>High</th>\n",
       "      <th>Low</th>\n",
       "      <th>Last</th>\n",
       "      <th>Close</th>\n",
       "      <th>Total Trade Quantity</th>\n",
       "      <th>Turnover (Lacs)</th>\n",
       "    </tr>\n",
       "  </thead>\n",
       "  <tbody>\n",
       "    <tr>\n",
       "      <th>count</th>\n",
       "      <td>2035.000000</td>\n",
       "      <td>2035.000000</td>\n",
       "      <td>2035.000000</td>\n",
       "      <td>2035.000000</td>\n",
       "      <td>2035.00000</td>\n",
       "      <td>2.035000e+03</td>\n",
       "      <td>2035.000000</td>\n",
       "    </tr>\n",
       "    <tr>\n",
       "      <th>mean</th>\n",
       "      <td>149.713735</td>\n",
       "      <td>151.992826</td>\n",
       "      <td>147.293931</td>\n",
       "      <td>149.474251</td>\n",
       "      <td>149.45027</td>\n",
       "      <td>2.335681e+06</td>\n",
       "      <td>3899.980565</td>\n",
       "    </tr>\n",
       "    <tr>\n",
       "      <th>std</th>\n",
       "      <td>48.664509</td>\n",
       "      <td>49.413109</td>\n",
       "      <td>47.931958</td>\n",
       "      <td>48.732570</td>\n",
       "      <td>48.71204</td>\n",
       "      <td>2.091778e+06</td>\n",
       "      <td>4570.767877</td>\n",
       "    </tr>\n",
       "    <tr>\n",
       "      <th>min</th>\n",
       "      <td>81.100000</td>\n",
       "      <td>82.800000</td>\n",
       "      <td>80.000000</td>\n",
       "      <td>81.000000</td>\n",
       "      <td>80.95000</td>\n",
       "      <td>3.961000e+04</td>\n",
       "      <td>37.040000</td>\n",
       "    </tr>\n",
       "    <tr>\n",
       "      <th>25%</th>\n",
       "      <td>120.025000</td>\n",
       "      <td>122.100000</td>\n",
       "      <td>118.300000</td>\n",
       "      <td>120.075000</td>\n",
       "      <td>120.05000</td>\n",
       "      <td>1.146444e+06</td>\n",
       "      <td>1427.460000</td>\n",
       "    </tr>\n",
       "    <tr>\n",
       "      <th>50%</th>\n",
       "      <td>141.500000</td>\n",
       "      <td>143.400000</td>\n",
       "      <td>139.600000</td>\n",
       "      <td>141.100000</td>\n",
       "      <td>141.25000</td>\n",
       "      <td>1.783456e+06</td>\n",
       "      <td>2512.030000</td>\n",
       "    </tr>\n",
       "    <tr>\n",
       "      <th>75%</th>\n",
       "      <td>157.175000</td>\n",
       "      <td>159.400000</td>\n",
       "      <td>155.150000</td>\n",
       "      <td>156.925000</td>\n",
       "      <td>156.90000</td>\n",
       "      <td>2.813594e+06</td>\n",
       "      <td>4539.015000</td>\n",
       "    </tr>\n",
       "    <tr>\n",
       "      <th>max</th>\n",
       "      <td>327.700000</td>\n",
       "      <td>328.750000</td>\n",
       "      <td>321.650000</td>\n",
       "      <td>325.950000</td>\n",
       "      <td>325.75000</td>\n",
       "      <td>2.919102e+07</td>\n",
       "      <td>55755.080000</td>\n",
       "    </tr>\n",
       "  </tbody>\n",
       "</table>\n",
       "</div>"
      ],
      "text/plain": [
       "              Open         High          Low         Last       Close  \\\n",
       "count  2035.000000  2035.000000  2035.000000  2035.000000  2035.00000   \n",
       "mean    149.713735   151.992826   147.293931   149.474251   149.45027   \n",
       "std      48.664509    49.413109    47.931958    48.732570    48.71204   \n",
       "min      81.100000    82.800000    80.000000    81.000000    80.95000   \n",
       "25%     120.025000   122.100000   118.300000   120.075000   120.05000   \n",
       "50%     141.500000   143.400000   139.600000   141.100000   141.25000   \n",
       "75%     157.175000   159.400000   155.150000   156.925000   156.90000   \n",
       "max     327.700000   328.750000   321.650000   325.950000   325.75000   \n",
       "\n",
       "       Total Trade Quantity  Turnover (Lacs)  \n",
       "count          2.035000e+03      2035.000000  \n",
       "mean           2.335681e+06      3899.980565  \n",
       "std            2.091778e+06      4570.767877  \n",
       "min            3.961000e+04        37.040000  \n",
       "25%            1.146444e+06      1427.460000  \n",
       "50%            1.783456e+06      2512.030000  \n",
       "75%            2.813594e+06      4539.015000  \n",
       "max            2.919102e+07     55755.080000  "
      ]
     },
     "execution_count": 8,
     "metadata": {},
     "output_type": "execute_result"
    }
   ],
   "source": [
    "data.describe()"
   ]
  },
  {
   "cell_type": "code",
   "execution_count": 9,
   "metadata": {},
   "outputs": [
    {
     "data": {
      "text/plain": [
       "Index(['Date', 'Open', 'High', 'Low', 'Last', 'Close', 'Total Trade Quantity',\n",
       "       'Turnover (Lacs)'],\n",
       "      dtype='object')"
      ]
     },
     "execution_count": 9,
     "metadata": {},
     "output_type": "execute_result"
    }
   ],
   "source": [
    "data.columns"
   ]
  },
  {
   "cell_type": "code",
   "execution_count": 10,
   "metadata": {},
   "outputs": [
    {
     "data": {
      "text/plain": [
       "(2035,)"
      ]
     },
     "execution_count": 10,
     "metadata": {},
     "output_type": "execute_result"
    }
   ],
   "source": [
    "df_close = data.reset_index()['Close']\n",
    "df_close.shape"
   ]
  },
  {
   "cell_type": "code",
   "execution_count": 11,
   "metadata": {},
   "outputs": [
    {
     "data": {
      "text/plain": [
       "2030    118.65\n",
       "2031    117.60\n",
       "2032    120.65\n",
       "2033    120.90\n",
       "2034    121.55\n",
       "Name: Close, dtype: float64"
      ]
     },
     "execution_count": 11,
     "metadata": {},
     "output_type": "execute_result"
    }
   ],
   "source": [
    "df_close.tail()"
   ]
  },
  {
   "cell_type": "code",
   "execution_count": 12,
   "metadata": {},
   "outputs": [
    {
     "data": {
      "text/plain": [
       "Text(0.5, 1.0, 'Date wise Closing Price')"
      ]
     },
     "execution_count": 12,
     "metadata": {},
     "output_type": "execute_result"
    },
    {
     "data": {
      "image/png": "[encoded data removed]",
      "text/plain": [
       "<Figure size 720x432 with 1 Axes>"
      ]
     },
     "metadata": {
      "needs_background": "light"
     },
     "output_type": "display_data"
    }
   ],
   "source": [
    "plt.rcParams['figure.figsize']=(10,6)\n",
    "plt.plot(df_close)\n",
    "plt.xlabel('Date',size=10)\n",
    "plt.ylabel('Close',size=10)\n",
    "plt.title('Date wise Closing Price')"
   ]
  },
  {
   "cell_type": "code",
   "execution_count": 13,
   "metadata": {},
   "outputs": [],
   "source": [
    "from sklearn.preprocessing import MinMaxScaler\n",
    "scaler=MinMaxScaler(feature_range = (0,1))\n",
    "df_close=scaler.fit_transform(np.array(df_close).reshape(-1,1))"
   ]
  },
  {
   "cell_type": "code",
   "execution_count": 14,
   "metadata": {},
   "outputs": [
    {
     "data": {
      "text/plain": [
       "array([[0.62418301],\n",
       "       [0.62214052],\n",
       "       [0.62622549],\n",
       "       ...,\n",
       "       [0.1621732 ],\n",
       "       [0.16319444],\n",
       "       [0.16584967]])"
      ]
     },
     "execution_count": 14,
     "metadata": {},
     "output_type": "execute_result"
    }
   ],
   "source": [
    "df_close"
   ]
  },
  {
   "cell_type": "code",
   "execution_count": 15,
   "metadata": {},
   "outputs": [],
   "source": [
    "train_size = int(len(df_close)*0.7)\n",
    "test_size = len(df_close)-train_size\n",
    "train_data, test_data =df_close[0:train_size,:],df_close[train_size:len(df_close),:1]"
   ]
  },
  {
   "cell_type": "code",
   "execution_count": 16,
   "metadata": {},
   "outputs": [
    {
     "data": {
      "text/plain": [
       "(1424, 611)"
      ]
     },
     "execution_count": 16,
     "metadata": {},
     "output_type": "execute_result"
    }
   ],
   "source": [
    "train_size,test_size"
   ]
  },
  {
   "cell_type": "code",
   "execution_count": 17,
   "metadata": {},
   "outputs": [
    {
     "data": {
      "image/png": "[encoded data removed]",
      "text/plain": [
       "<Figure size 1152x288 with 2 Axes>"
      ]
     },
     "metadata": {
      "needs_background": "light"
     },
     "output_type": "display_data"
    }
   ],
   "source": [
    "plt.rcParams['figure.figsize']=(16,4)\n",
    "\n",
    "plt.subplot(121)\n",
    "plt.plot(train_data)\n",
    "plt.title('Training Data')\n",
    "\n",
    "plt.subplot(122)\n",
    "plt.plot(train_data)\n",
    "plt.title('Training Data')\n",
    "\n",
    "plt.show()"
   ]
  },
  {
   "cell_type": "code",
   "execution_count": 18,
   "metadata": {},
   "outputs": [],
   "source": [
    "def create_dataset(data, steps=1):\n",
    "    dataX, dataY= [], []\n",
    "    for i in range(len(data)-steps-1):\n",
    "        z = data[i:(i+steps),0]\n",
    "        dataX.append(z)\n",
    "        dataY.append(data[i+steps, 0])\n",
    "    return np.array(dataX), np.array(dataY)      "
   ]
  },
  {
   "cell_type": "code",
   "execution_count": 19,
   "metadata": {},
   "outputs": [],
   "source": [
    "steps = 100\n",
    "x_train, y_train = create_dataset(train_data, steps)\n",
    "x_test, y_test = create_dataset(test_data, steps)"
   ]
  },
  {
   "cell_type": "code",
   "execution_count": 20,
   "metadata": {},
   "outputs": [
    {
     "data": {
      "text/plain": [
       "((1323, 100), (1323,), (510, 100), (510,))"
      ]
     },
     "execution_count": 20,
     "metadata": {},
     "output_type": "execute_result"
    }
   ],
   "source": [
    "x_train.shape, y_train.shape, x_test.shape, y_test.shape "
   ]
  },
  {
   "cell_type": "code",
   "execution_count": 21,
   "metadata": {},
   "outputs": [
    {
     "data": {
      "text/plain": [
       "(array([[0.62418301, 0.62214052, 0.62622549, ..., 0.83455882, 0.86213235,\n",
       "         0.85273693],\n",
       "        [0.62214052, 0.62622549, 0.63378268, ..., 0.86213235, 0.85273693,\n",
       "         0.87111928],\n",
       "        [0.62622549, 0.63378268, 0.62234477, ..., 0.85273693, 0.87111928,\n",
       "         0.84497549],\n",
       "        ...,\n",
       "        [0.26041667, 0.2563317 , 0.24652778, ..., 0.33415033, 0.33986928,\n",
       "         0.34681373],\n",
       "        [0.2563317 , 0.24652778, 0.23611111, ..., 0.33986928, 0.34681373,\n",
       "         0.3500817 ],\n",
       "        [0.24652778, 0.23611111, 0.25204248, ..., 0.34681373, 0.3500817 ,\n",
       "         0.32618464]]),\n",
       " array([0.87111928, 0.84497549, 0.84027778, ..., 0.3500817 , 0.32618464,\n",
       "        0.32271242]))"
      ]
     },
     "execution_count": 21,
     "metadata": {},
     "output_type": "execute_result"
    }
   ],
   "source": [
    "x_train, y_train"
   ]
  },
  {
   "cell_type": "code",
   "execution_count": 22,
   "metadata": {},
   "outputs": [],
   "source": [
    "x_train = x_train.reshape(x_train.shape[0], x_train.shape[1], 1)\n",
    "x_test = x_test.reshape(x_test.shape[0], x_test.shape[1], 1)"
   ]
  },
  {
   "cell_type": "code",
   "execution_count": 23,
   "metadata": {},
   "outputs": [
    {
     "data": {
      "text/plain": [
       "array([[[0.62418301],\n",
       "        [0.62214052],\n",
       "        [0.62622549],\n",
       "        ...,\n",
       "        [0.83455882],\n",
       "        [0.86213235],\n",
       "        [0.85273693]],\n",
       "\n",
       "       [[0.62214052],\n",
       "        [0.62622549],\n",
       "        [0.63378268],\n",
       "        ...,\n",
       "        [0.86213235],\n",
       "        [0.85273693],\n",
       "        [0.87111928]],\n",
       "\n",
       "       [[0.62622549],\n",
       "        [0.63378268],\n",
       "        [0.62234477],\n",
       "        ...,\n",
       "        [0.85273693],\n",
       "        [0.87111928],\n",
       "        [0.84497549]],\n",
       "\n",
       "       ...,\n",
       "\n",
       "       [[0.26041667],\n",
       "        [0.2563317 ],\n",
       "        [0.24652778],\n",
       "        ...,\n",
       "        [0.33415033],\n",
       "        [0.33986928],\n",
       "        [0.34681373]],\n",
       "\n",
       "       [[0.2563317 ],\n",
       "        [0.24652778],\n",
       "        [0.23611111],\n",
       "        ...,\n",
       "        [0.33986928],\n",
       "        [0.34681373],\n",
       "        [0.3500817 ]],\n",
       "\n",
       "       [[0.24652778],\n",
       "        [0.23611111],\n",
       "        [0.25204248],\n",
       "        ...,\n",
       "        [0.34681373],\n",
       "        [0.3500817 ],\n",
       "        [0.32618464]]])"
      ]
     },
     "execution_count": 23,
     "metadata": {},
     "output_type": "execute_result"
    }
   ],
   "source": [
    "x_train"
   ]
  },
  {
   "cell_type": "code",
   "execution_count": 24,
   "metadata": {},
   "outputs": [],
   "source": [
    "from tensorflow.keras.models import Sequential\n",
    "from tensorflow.keras.layers import Dense, LSTM"
   ]
  },
  {
   "cell_type": "code",
   "execution_count": 25,
   "metadata": {},
   "outputs": [],
   "source": [
    "model = Sequential()\n",
    "model.add(LSTM(50, return_sequences = True, input_shape = (100,1)))\n",
    "model.add(LSTM(50, return_sequences = True))\n",
    "model.add(LSTM(50))\n",
    "model.add(Dense(1))\n",
    "\n",
    "model.compile(loss='mean_squared_error', optimizer = 'adam')"
   ]
  },
  {
   "cell_type": "code",
   "execution_count": 26,
   "metadata": {},
   "outputs": [
    {
     "name": "stdout",
     "output_type": "stream",
     "text": [
      "Model: \"sequential\"\n",
      "_________________________________________________________________\n",
      " Layer (type)                Output Shape              Param #   \n",
      "=================================================================\n",
      " lstm (LSTM)                 (None, 100, 50)           10400     \n",
      "                                                                 \n",
      " lstm_1 (LSTM)               (None, 100, 50)           20200     \n",
      "                                                                 \n",
      " lstm_2 (LSTM)               (None, 50)                20200     \n",
      "                                                                 \n",
      " dense (Dense)               (None, 1)                 51        \n",
      "                                                                 \n",
      "=================================================================\n",
      "Total params: 50,851\n",
      "Trainable params: 50,851\n",
      "Non-trainable params: 0\n",
      "_________________________________________________________________\n"
     ]
    }
   ],
   "source": [
    "model.summary()"
   ]
  },
  {
   "cell_type": "code",
   "execution_count": 28,
   "metadata": {},
   "outputs": [
    {
     "name": "stdout",
     "output_type": "stream",
     "text": [
      "Epoch 1/50\n",
      "21/21 [==============================] - 5s 245ms/step - loss: 0.0016 - val_loss: 0.0011\n",
      "Epoch 2/50\n",
      "21/21 [==============================] - 5s 243ms/step - loss: 0.0014 - val_loss: 0.0015\n",
      "Epoch 3/50\n",
      "21/21 [==============================] - 5s 244ms/step - loss: 0.0014 - val_loss: 0.0010\n",
      "Epoch 4/50\n",
      "21/21 [==============================] - 5s 244ms/step - loss: 0.0013 - val_loss: 0.0011\n",
      "Epoch 5/50\n",
      "21/21 [==============================] - 5s 245ms/step - loss: 0.0013 - val_loss: 0.0013\n",
      "Epoch 6/50\n",
      "21/21 [==============================] - 5s 251ms/step - loss: 0.0013 - val_loss: 0.0010\n",
      "Epoch 7/50\n",
      "21/21 [==============================] - 5s 245ms/step - loss: 0.0013 - val_loss: 0.0011\n",
      "Epoch 8/50\n",
      "21/21 [==============================] - 5s 245ms/step - loss: 0.0011 - val_loss: 0.0011\n",
      "Epoch 9/50\n",
      "21/21 [==============================] - 5s 243ms/step - loss: 0.0011 - val_loss: 0.0011\n",
      "Epoch 10/50\n",
      "21/21 [==============================] - 5s 245ms/step - loss: 9.8670e-04 - val_loss: 0.0012\n",
      "Epoch 11/50\n",
      "21/21 [==============================] - 5s 248ms/step - loss: 0.0010 - val_loss: 7.6156e-04\n",
      "Epoch 12/50\n",
      "21/21 [==============================] - 6s 265ms/step - loss: 0.0010 - val_loss: 8.3530e-04\n",
      "Epoch 13/50\n",
      "21/21 [==============================] - 6s 273ms/step - loss: 9.0633e-04 - val_loss: 9.3128e-04\n",
      "Epoch 14/50\n",
      "21/21 [==============================] - 6s 287ms/step - loss: 9.1196e-04 - val_loss: 6.0506e-04\n",
      "Epoch 15/50\n",
      "21/21 [==============================] - 5s 256ms/step - loss: 9.1435e-04 - val_loss: 0.0011\n",
      "Epoch 16/50\n",
      "21/21 [==============================] - 5s 248ms/step - loss: 8.5050e-04 - val_loss: 7.9654e-04\n",
      "Epoch 17/50\n",
      "21/21 [==============================] - 5s 246ms/step - loss: 7.9342e-04 - val_loss: 8.0609e-04\n",
      "Epoch 18/50\n",
      "21/21 [==============================] - 5s 246ms/step - loss: 7.8874e-04 - val_loss: 8.0809e-04\n",
      "Epoch 19/50\n",
      "21/21 [==============================] - 5s 248ms/step - loss: 7.7365e-04 - val_loss: 6.3419e-04\n",
      "Epoch 20/50\n",
      "21/21 [==============================] - 5s 246ms/step - loss: 7.8385e-04 - val_loss: 0.0010\n",
      "Epoch 21/50\n",
      "21/21 [==============================] - 5s 248ms/step - loss: 7.7349e-04 - val_loss: 8.7981e-04\n",
      "Epoch 22/50\n",
      "21/21 [==============================] - 5s 248ms/step - loss: 6.8784e-04 - val_loss: 6.7112e-04\n",
      "Epoch 23/50\n",
      "21/21 [==============================] - 5s 245ms/step - loss: 7.4346e-04 - val_loss: 6.4265e-04\n",
      "Epoch 24/50\n",
      "21/21 [==============================] - 5s 260ms/step - loss: 7.1256e-04 - val_loss: 6.8306e-04\n",
      "Epoch 25/50\n",
      "21/21 [==============================] - 5s 244ms/step - loss: 7.0968e-04 - val_loss: 7.0899e-04\n",
      "Epoch 26/50\n",
      "21/21 [==============================] - 5s 245ms/step - loss: 6.2321e-04 - val_loss: 6.5238e-04\n",
      "Epoch 27/50\n",
      "21/21 [==============================] - 5s 245ms/step - loss: 6.8847e-04 - val_loss: 5.3751e-04\n",
      "Epoch 28/50\n",
      "21/21 [==============================] - 5s 249ms/step - loss: 6.3510e-04 - val_loss: 6.4713e-04\n",
      "Epoch 29/50\n",
      "21/21 [==============================] - 5s 246ms/step - loss: 5.8890e-04 - val_loss: 7.7688e-04\n",
      "Epoch 30/50\n",
      "21/21 [==============================] - 5s 247ms/step - loss: 5.9329e-04 - val_loss: 8.0335e-04\n",
      "Epoch 31/50\n",
      "21/21 [==============================] - 8s 365ms/step - loss: 5.8138e-04 - val_loss: 6.5792e-04\n",
      "Epoch 32/50\n",
      "21/21 [==============================] - 8s 381ms/step - loss: 7.9306e-04 - val_loss: 6.1970e-04\n",
      "Epoch 33/50\n",
      "21/21 [==============================] - 8s 367ms/step - loss: 6.4615e-04 - val_loss: 6.4800e-04\n",
      "Epoch 34/50\n",
      "21/21 [==============================] - 8s 367ms/step - loss: 5.7489e-04 - val_loss: 6.0803e-04\n",
      "Epoch 35/50\n",
      "21/21 [==============================] - 8s 367ms/step - loss: 5.3853e-04 - val_loss: 5.3670e-04\n",
      "Epoch 36/50\n",
      "21/21 [==============================] - 8s 372ms/step - loss: 5.6453e-04 - val_loss: 9.3980e-04\n",
      "Epoch 37/50\n",
      "21/21 [==============================] - 8s 373ms/step - loss: 5.9158e-04 - val_loss: 6.0046e-04\n",
      "Epoch 38/50\n",
      "21/21 [==============================] - 8s 383ms/step - loss: 5.3078e-04 - val_loss: 5.1465e-04\n",
      "Epoch 39/50\n",
      "21/21 [==============================] - 8s 375ms/step - loss: 4.9859e-04 - val_loss: 5.7931e-04\n",
      "Epoch 40/50\n",
      "21/21 [==============================] - 8s 367ms/step - loss: 4.8485e-04 - val_loss: 6.3384e-04\n",
      "Epoch 41/50\n",
      "21/21 [==============================] - 8s 368ms/step - loss: 4.8299e-04 - val_loss: 4.7583e-04\n",
      "Epoch 42/50\n",
      "21/21 [==============================] - 8s 367ms/step - loss: 5.0029e-04 - val_loss: 5.8052e-04\n",
      "Epoch 43/50\n",
      "21/21 [==============================] - 8s 373ms/step - loss: 4.8282e-04 - val_loss: 5.8183e-04\n",
      "Epoch 44/50\n",
      "21/21 [==============================] - 8s 367ms/step - loss: 4.5875e-04 - val_loss: 6.7259e-04\n",
      "Epoch 45/50\n",
      "21/21 [==============================] - 8s 366ms/step - loss: 4.9347e-04 - val_loss: 4.4460e-04\n",
      "Epoch 46/50\n",
      "21/21 [==============================] - 8s 375ms/step - loss: 4.6109e-04 - val_loss: 5.7271e-04\n",
      "Epoch 47/50\n",
      "21/21 [==============================] - 8s 369ms/step - loss: 4.1270e-04 - val_loss: 6.2351e-04\n",
      "Epoch 48/50\n",
      "21/21 [==============================] - 8s 363ms/step - loss: 4.2352e-04 - val_loss: 4.2553e-04\n",
      "Epoch 49/50\n",
      "21/21 [==============================] - 8s 371ms/step - loss: 3.9679e-04 - val_loss: 4.5463e-04\n",
      "Epoch 50/50\n",
      "21/21 [==============================] - 8s 367ms/step - loss: 4.5481e-04 - val_loss: 3.8432e-04\n"
     ]
    },
    {
     "data": {
      "text/plain": [
       "<keras.callbacks.History at 0x1fb502b29a0>"
      ]
     },
     "execution_count": 28,
     "metadata": {},
     "output_type": "execute_result"
    }
   ],
   "source": [
    "model.fit(x_train,y_train,validation_data = (x_test,y_test), epochs = 50, batch_size=64,verbose=1)"
   ]
  },
  {
   "cell_type": "code",
   "execution_count": 29,
   "metadata": {},
   "outputs": [],
   "source": [
    "import tensorflow as tf"
   ]
  },
  {
   "cell_type": "code",
   "execution_count": 30,
   "metadata": {},
   "outputs": [],
   "source": [
    "train_pred= model.predict(x_train)\n",
    "test_pred= model.predict(x_test)"
   ]
  },
  {
   "cell_type": "code",
   "execution_count": 31,
   "metadata": {},
   "outputs": [],
   "source": [
    "train_pred = scaler.inverse_transform(train_pred)\n",
    "test_pred = scaler.inverse_transform(test_pred)"
   ]
  },
  {
   "cell_type": "code",
   "execution_count": 32,
   "metadata": {},
   "outputs": [
    {
     "data": {
      "text/plain": [
       "(array([[285.8698 ],\n",
       "        [290.14413],\n",
       "        [289.7486 ],\n",
       "        ...,\n",
       "        [160.44829],\n",
       "        [161.28297],\n",
       "        [161.2258 ]], dtype=float32),\n",
       " array([[128.84113 ],\n",
       "        [128.22044 ],\n",
       "        [127.18875 ],\n",
       "        [125.74959 ],\n",
       "        [124.15509 ],\n",
       "        [122.7662  ],\n",
       "        [121.98909 ],\n",
       "        [121.08627 ],\n",
       "        [120.31382 ],\n",
       "        [119.995804],\n",
       "        [119.887794],\n",
       "        [119.63476 ],\n",
       "        [119.05483 ],\n",
       "        [118.2468  ],\n",
       "        [117.49261 ],\n",
       "        [117.0068  ],\n",
       "        [116.73706 ],\n",
       "        [116.49274 ],\n",
       "        [116.551704],\n",
       "        [117.018036],\n",
       "        [117.68564 ],\n",
       "        [118.43563 ],\n",
       "        [118.98904 ],\n",
       "        [119.101456],\n",
       "        [118.82174 ],\n",
       "        [118.43728 ],\n",
       "        [117.91571 ],\n",
       "        [116.858536],\n",
       "        [115.35462 ],\n",
       "        [113.685524],\n",
       "        [112.02655 ],\n",
       "        [110.47705 ],\n",
       "        [109.23483 ],\n",
       "        [108.52122 ],\n",
       "        [108.15575 ],\n",
       "        [108.22143 ],\n",
       "        [108.87489 ],\n",
       "        [109.82885 ],\n",
       "        [110.92368 ],\n",
       "        [111.73558 ],\n",
       "        [112.05838 ],\n",
       "        [111.751236],\n",
       "        [110.941124],\n",
       "        [109.980736],\n",
       "        [109.246994],\n",
       "        [108.8297  ],\n",
       "        [108.88171 ],\n",
       "        [109.37912 ],\n",
       "        [109.88679 ],\n",
       "        [110.3689  ],\n",
       "        [110.64152 ],\n",
       "        [110.625854],\n",
       "        [110.376854],\n",
       "        [109.90817 ],\n",
       "        [109.47674 ],\n",
       "        [109.21596 ],\n",
       "        [108.9017  ],\n",
       "        [108.38557 ],\n",
       "        [108.14909 ],\n",
       "        [108.561356],\n",
       "        [109.34017 ],\n",
       "        [110.415985],\n",
       "        [111.84924 ],\n",
       "        [113.26732 ],\n",
       "        [114.6944  ],\n",
       "        [116.15448 ],\n",
       "        [117.287544],\n",
       "        [117.94282 ],\n",
       "        [118.10055 ],\n",
       "        [117.87596 ],\n",
       "        [117.54901 ],\n",
       "        [117.41803 ],\n",
       "        [117.41457 ],\n",
       "        [117.862785],\n",
       "        [118.86242 ],\n",
       "        [119.73186 ],\n",
       "        [120.23921 ],\n",
       "        [120.34844 ],\n",
       "        [120.019264],\n",
       "        [119.817894],\n",
       "        [119.59821 ],\n",
       "        [119.285286],\n",
       "        [118.88467 ],\n",
       "        [118.53572 ],\n",
       "        [118.40356 ],\n",
       "        [118.15786 ],\n",
       "        [117.52459 ],\n",
       "        [116.28722 ],\n",
       "        [114.854546],\n",
       "        [113.54964 ],\n",
       "        [112.468575],\n",
       "        [111.95536 ],\n",
       "        [111.823326],\n",
       "        [112.22387 ],\n",
       "        [112.86039 ],\n",
       "        [113.24426 ],\n",
       "        [113.554634],\n",
       "        [114.077034],\n",
       "        [115.13971 ],\n",
       "        [116.36341 ],\n",
       "        [117.3645  ],\n",
       "        [118.127464],\n",
       "        [118.455025],\n",
       "        [118.2007  ],\n",
       "        [117.73182 ],\n",
       "        [117.63674 ],\n",
       "        [117.96703 ],\n",
       "        [118.82077 ],\n",
       "        [120.17118 ],\n",
       "        [121.27292 ],\n",
       "        [121.20829 ],\n",
       "        [120.76845 ],\n",
       "        [120.313225],\n",
       "        [119.74107 ],\n",
       "        [119.452805],\n",
       "        [119.338684],\n",
       "        [119.48501 ],\n",
       "        [119.82326 ],\n",
       "        [120.224815],\n",
       "        [120.65675 ],\n",
       "        [120.829605],\n",
       "        [121.113914],\n",
       "        [121.04831 ],\n",
       "        [120.25841 ],\n",
       "        [119.2149  ],\n",
       "        [118.5458  ],\n",
       "        [117.50002 ],\n",
       "        [116.07176 ],\n",
       "        [114.41435 ],\n",
       "        [112.02278 ],\n",
       "        [109.220116],\n",
       "        [106.35837 ],\n",
       "        [103.67527 ],\n",
       "        [101.32816 ],\n",
       "        [ 99.490486],\n",
       "        [ 98.2808  ],\n",
       "        [ 97.579254],\n",
       "        [ 97.52629 ],\n",
       "        [ 98.06147 ],\n",
       "        [ 98.66812 ],\n",
       "        [ 99.03931 ],\n",
       "        [ 99.117805],\n",
       "        [ 99.02961 ],\n",
       "        [ 98.80643 ],\n",
       "        [ 98.526985],\n",
       "        [ 98.25766 ],\n",
       "        [ 98.00582 ],\n",
       "        [ 97.934364],\n",
       "        [ 97.98462 ],\n",
       "        [ 97.8637  ],\n",
       "        [ 97.49155 ],\n",
       "        [ 96.948296],\n",
       "        [ 96.184555],\n",
       "        [ 95.34834 ],\n",
       "        [ 94.6121  ],\n",
       "        [ 94.053764],\n",
       "        [ 93.75722 ],\n",
       "        [ 93.481766],\n",
       "        [ 93.0935  ],\n",
       "        [ 92.58215 ],\n",
       "        [ 92.13075 ],\n",
       "        [ 92.01074 ],\n",
       "        [ 92.08332 ],\n",
       "        [ 92.322845],\n",
       "        [ 92.58012 ],\n",
       "        [ 92.91306 ],\n",
       "        [ 93.29501 ],\n",
       "        [ 93.7415  ],\n",
       "        [ 94.18568 ],\n",
       "        [ 94.64706 ],\n",
       "        [ 94.87262 ],\n",
       "        [ 94.57283 ],\n",
       "        [ 93.85017 ],\n",
       "        [ 92.895424],\n",
       "        [ 91.7795  ],\n",
       "        [ 90.70525 ],\n",
       "        [ 89.71864 ],\n",
       "        [ 88.9783  ],\n",
       "        [ 88.47646 ],\n",
       "        [ 88.21244 ],\n",
       "        [ 88.13256 ],\n",
       "        [ 88.24092 ],\n",
       "        [ 88.59385 ],\n",
       "        [ 89.228264],\n",
       "        [ 90.06896 ],\n",
       "        [ 91.024376],\n",
       "        [ 92.05867 ],\n",
       "        [ 93.073715],\n",
       "        [ 93.95129 ],\n",
       "        [ 94.65274 ],\n",
       "        [ 95.192055],\n",
       "        [ 95.636986],\n",
       "        [ 95.82018 ],\n",
       "        [ 95.63807 ],\n",
       "        [ 95.11769 ],\n",
       "        [ 94.3063  ],\n",
       "        [ 93.343445],\n",
       "        [ 92.423744],\n",
       "        [ 91.79839 ],\n",
       "        [ 91.50569 ],\n",
       "        [ 91.64823 ],\n",
       "        [ 91.982994],\n",
       "        [ 92.2888  ],\n",
       "        [ 92.56416 ],\n",
       "        [ 92.710396],\n",
       "        [ 92.66444 ],\n",
       "        [ 92.283104],\n",
       "        [ 91.566315],\n",
       "        [ 90.76878 ],\n",
       "        [ 90.11135 ],\n",
       "        [ 89.77083 ],\n",
       "        [ 89.73064 ],\n",
       "        [ 89.946724],\n",
       "        [ 90.44234 ],\n",
       "        [ 91.0003  ],\n",
       "        [ 91.5143  ],\n",
       "        [ 91.87453 ],\n",
       "        [ 92.4563  ],\n",
       "        [ 93.2338  ],\n",
       "        [ 93.99424 ],\n",
       "        [ 94.61098 ],\n",
       "        [ 95.16512 ],\n",
       "        [ 95.61812 ],\n",
       "        [ 95.898674],\n",
       "        [ 96.00696 ],\n",
       "        [ 96.127144],\n",
       "        [ 96.38159 ],\n",
       "        [ 96.74001 ],\n",
       "        [ 97.12332 ],\n",
       "        [ 97.302826],\n",
       "        [ 97.32908 ],\n",
       "        [ 97.31518 ],\n",
       "        [ 97.29615 ],\n",
       "        [ 97.03037 ],\n",
       "        [ 96.722855],\n",
       "        [ 96.409485],\n",
       "        [ 96.1865  ],\n",
       "        [ 95.97936 ],\n",
       "        [ 95.591644],\n",
       "        [ 95.113235],\n",
       "        [ 95.052505],\n",
       "        [ 95.644295],\n",
       "        [ 96.986305],\n",
       "        [ 98.84434 ],\n",
       "        [101.11464 ],\n",
       "        [103.18656 ],\n",
       "        [105.015434],\n",
       "        [106.49972 ],\n",
       "        [107.93265 ],\n",
       "        [109.02477 ],\n",
       "        [109.46245 ],\n",
       "        [109.50465 ],\n",
       "        [109.303276],\n",
       "        [109.11015 ],\n",
       "        [109.053474],\n",
       "        [108.855934],\n",
       "        [108.54749 ],\n",
       "        [108.00399 ],\n",
       "        [107.05895 ],\n",
       "        [106.01562 ],\n",
       "        [105.21597 ],\n",
       "        [104.77604 ],\n",
       "        [104.49321 ],\n",
       "        [104.41517 ],\n",
       "        [104.43459 ],\n",
       "        [104.40295 ],\n",
       "        [104.37355 ],\n",
       "        [104.25809 ],\n",
       "        [104.42735 ],\n",
       "        [104.75177 ],\n",
       "        [105.10713 ],\n",
       "        [105.514366],\n",
       "        [105.442665],\n",
       "        [104.816605],\n",
       "        [103.595764],\n",
       "        [102.043205],\n",
       "        [100.42484 ],\n",
       "        [ 98.95464 ],\n",
       "        [ 97.6901  ],\n",
       "        [ 96.66555 ],\n",
       "        [ 96.03208 ],\n",
       "        [ 95.83303 ],\n",
       "        [ 96.30239 ],\n",
       "        [ 97.17825 ],\n",
       "        [ 98.31095 ],\n",
       "        [ 99.58494 ],\n",
       "        [100.810616],\n",
       "        [101.56287 ],\n",
       "        [101.84633 ],\n",
       "        [101.88003 ],\n",
       "        [101.52191 ],\n",
       "        [100.81134 ],\n",
       "        [ 99.95566 ],\n",
       "        [ 99.15452 ],\n",
       "        [ 98.357285],\n",
       "        [ 97.34635 ],\n",
       "        [ 96.17682 ],\n",
       "        [ 95.09026 ],\n",
       "        [ 94.06824 ],\n",
       "        [ 93.314514],\n",
       "        [ 93.10518 ],\n",
       "        [ 93.587   ],\n",
       "        [ 94.694786],\n",
       "        [ 96.08281 ],\n",
       "        [ 97.47115 ],\n",
       "        [ 98.65889 ],\n",
       "        [ 99.60499 ],\n",
       "        [100.41615 ],\n",
       "        [101.0125  ],\n",
       "        [101.57559 ],\n",
       "        [102.052185],\n",
       "        [102.265305],\n",
       "        [102.21419 ],\n",
       "        [101.899055],\n",
       "        [101.53532 ],\n",
       "        [101.336624],\n",
       "        [101.37093 ],\n",
       "        [101.64008 ],\n",
       "        [102.18422 ],\n",
       "        [102.98601 ],\n",
       "        [103.93542 ],\n",
       "        [104.71055 ],\n",
       "        [105.27176 ],\n",
       "        [105.5307  ],\n",
       "        [105.50781 ],\n",
       "        [105.221306],\n",
       "        [104.99033 ],\n",
       "        [104.909355],\n",
       "        [104.91019 ],\n",
       "        [105.10728 ],\n",
       "        [105.770035],\n",
       "        [106.61031 ],\n",
       "        [107.329025],\n",
       "        [107.54701 ],\n",
       "        [107.20758 ],\n",
       "        [106.28821 ],\n",
       "        [105.00337 ],\n",
       "        [103.568634],\n",
       "        [102.39057 ],\n",
       "        [101.57639 ],\n",
       "        [101.191185],\n",
       "        [101.046875],\n",
       "        [101.04932 ],\n",
       "        [101.15171 ],\n",
       "        [101.258125],\n",
       "        [101.31079 ],\n",
       "        [101.42739 ],\n",
       "        [101.56975 ],\n",
       "        [101.95607 ],\n",
       "        [102.48645 ],\n",
       "        [102.700165],\n",
       "        [102.539635],\n",
       "        [101.92348 ],\n",
       "        [100.69731 ],\n",
       "        [ 99.24758 ],\n",
       "        [ 97.84621 ],\n",
       "        [ 96.70748 ],\n",
       "        [ 95.79401 ],\n",
       "        [ 95.06045 ],\n",
       "        [ 94.424034],\n",
       "        [ 94.36527 ],\n",
       "        [ 94.937386],\n",
       "        [ 95.92273 ],\n",
       "        [ 96.95577 ],\n",
       "        [ 98.29903 ],\n",
       "        [ 99.354485],\n",
       "        [100.02785 ],\n",
       "        [100.26507 ],\n",
       "        [ 99.965195],\n",
       "        [ 99.05058 ],\n",
       "        [ 97.74921 ],\n",
       "        [ 96.64306 ],\n",
       "        [ 96.13284 ],\n",
       "        [ 96.17431 ],\n",
       "        [ 96.641884],\n",
       "        [ 97.424576],\n",
       "        [ 98.40118 ],\n",
       "        [ 99.48048 ],\n",
       "        [100.54312 ],\n",
       "        [101.92802 ],\n",
       "        [103.52029 ],\n",
       "        [105.09787 ],\n",
       "        [106.416885],\n",
       "        [107.42864 ],\n",
       "        [108.00057 ],\n",
       "        [108.16279 ],\n",
       "        [108.04607 ],\n",
       "        [107.74651 ],\n",
       "        [107.29061 ],\n",
       "        [106.81667 ],\n",
       "        [106.27567 ],\n",
       "        [105.90263 ],\n",
       "        [106.04501 ],\n",
       "        [106.83786 ],\n",
       "        [108.16139 ],\n",
       "        [109.77419 ],\n",
       "        [111.24972 ],\n",
       "        [112.100945],\n",
       "        [112.24044 ],\n",
       "        [112.02574 ],\n",
       "        [111.69435 ],\n",
       "        [111.39535 ],\n",
       "        [111.406784],\n",
       "        [111.69597 ],\n",
       "        [112.24085 ],\n",
       "        [113.086365],\n",
       "        [114.04351 ],\n",
       "        [114.91265 ],\n",
       "        [115.55449 ],\n",
       "        [115.88159 ],\n",
       "        [115.82932 ],\n",
       "        [115.35381 ],\n",
       "        [114.67631 ],\n",
       "        [114.26366 ],\n",
       "        [114.22475 ],\n",
       "        [114.4522  ],\n",
       "        [114.74279 ],\n",
       "        [115.0941  ],\n",
       "        [115.4097  ],\n",
       "        [115.49515 ],\n",
       "        [115.36768 ],\n",
       "        [115.070305],\n",
       "        [114.49128 ],\n",
       "        [114.32037 ],\n",
       "        [114.6516  ],\n",
       "        [115.55536 ],\n",
       "        [116.802124],\n",
       "        [118.05925 ],\n",
       "        [119.25127 ],\n",
       "        [120.5755  ],\n",
       "        [121.91315 ],\n",
       "        [123.39526 ],\n",
       "        [125.214455],\n",
       "        [126.6761  ],\n",
       "        [127.340744],\n",
       "        [127.32726 ],\n",
       "        [126.76207 ],\n",
       "        [125.9534  ],\n",
       "        [125.20756 ],\n",
       "        [124.60495 ],\n",
       "        [124.19894 ],\n",
       "        [124.39835 ],\n",
       "        [124.91922 ],\n",
       "        [125.55164 ],\n",
       "        [126.250374],\n",
       "        [126.918816],\n",
       "        [127.65657 ],\n",
       "        [128.27847 ],\n",
       "        [128.7511  ],\n",
       "        [129.04555 ],\n",
       "        [129.20517 ],\n",
       "        [129.58995 ],\n",
       "        [130.23491 ],\n",
       "        [130.70595 ],\n",
       "        [131.24283 ],\n",
       "        [131.63972 ],\n",
       "        [131.93709 ],\n",
       "        [131.71407 ],\n",
       "        [130.84843 ],\n",
       "        [129.40218 ],\n",
       "        [127.65339 ],\n",
       "        [125.65731 ],\n",
       "        [123.87253 ],\n",
       "        [122.65484 ],\n",
       "        [122.09954 ],\n",
       "        [122.21243 ],\n",
       "        [122.62214 ],\n",
       "        [122.84631 ],\n",
       "        [122.96547 ],\n",
       "        [123.20771 ],\n",
       "        [123.38247 ],\n",
       "        [123.39983 ],\n",
       "        [123.384995],\n",
       "        [123.43509 ],\n",
       "        [123.736   ],\n",
       "        [124.39037 ],\n",
       "        [125.18214 ],\n",
       "        [125.96913 ],\n",
       "        [126.18432 ],\n",
       "        [125.7622  ],\n",
       "        [124.96844 ],\n",
       "        [124.13485 ],\n",
       "        [123.21047 ],\n",
       "        [122.05124 ],\n",
       "        [120.846146],\n",
       "        [119.82056 ],\n",
       "        [118.9767  ],\n",
       "        [118.29894 ],\n",
       "        [117.823074],\n",
       "        [117.0918  ],\n",
       "        [116.29134 ],\n",
       "        [115.21449 ],\n",
       "        [114.117805],\n",
       "        [113.26953 ],\n",
       "        [112.974724],\n",
       "        [113.031654],\n",
       "        [113.383995],\n",
       "        [113.75446 ],\n",
       "        [114.07313 ],\n",
       "        [114.24017 ],\n",
       "        [114.42    ],\n",
       "        [114.83366 ],\n",
       "        [115.57521 ],\n",
       "        [116.4068  ],\n",
       "        [117.045425],\n",
       "        [117.458046],\n",
       "        [117.80535 ],\n",
       "        [118.14658 ],\n",
       "        [118.37141 ],\n",
       "        [118.73557 ]], dtype=float32))"
      ]
     },
     "execution_count": 32,
     "metadata": {},
     "output_type": "execute_result"
    }
   ],
   "source": [
    "train_pred, test_pred"
   ]
  },
  {
   "cell_type": "code",
   "execution_count": 33,
   "metadata": {},
   "outputs": [
    {
     "data": {
      "text/plain": [
       "161.92739404625246"
      ]
     },
     "execution_count": 33,
     "metadata": {},
     "output_type": "execute_result"
    }
   ],
   "source": [
    "import math\n",
    "from sklearn.metrics import mean_squared_error\n",
    "math.sqrt(mean_squared_error(y_train,train_pred))"
   ]
  },
  {
   "cell_type": "code",
   "execution_count": 34,
   "metadata": {},
   "outputs": [
    {
     "data": {
      "text/plain": [
       "108.53900465192793"
      ]
     },
     "execution_count": 34,
     "metadata": {},
     "output_type": "execute_result"
    }
   ],
   "source": [
    "math.sqrt(mean_squared_error(y_test, test_pred))"
   ]
  },
  {
   "cell_type": "code",
   "execution_count": 35,
   "metadata": {},
   "outputs": [
    {
     "data": {
      "image/png": "[encoded data removed]",
      "text/plain": [
       "<Figure size 720x504 with 1 Axes>"
      ]
     },
     "metadata": {
      "needs_background": "light"
     },
     "output_type": "display_data"
    }
   ],
   "source": [
    "look_back = 100\n",
    "trainPredPlot = np.empty_like(df_close)\n",
    "trainPredPlot[:, :] = np.nan\n",
    "trainPredPlot[look_back:len(train_pred)+look_back, :] = train_pred\n",
    "\n",
    "testPredPlot = np.empty_like(df_close)\n",
    "testPredPlot[:, :] = np.nan\n",
    "testPredPlot[len(train_pred)+ (look_back*2)+1:len(df_close)-1, :] = test_pred\n",
    "\n",
    "plt.rcParams['figure.figsize']=(10,7)\n",
    "\n",
    "plt.plot(scaler.inverse_transform(df_close))\n",
    "plt.plot(trainPredPlot)\n",
    "plt.plot(testPredPlot)\n",
    "plt.show()"
   ]
  },
  {
   "cell_type": "code",
   "execution_count": 36,
   "metadata": {},
   "outputs": [],
   "source": [
    "x_input = test_data[0:100].reshape(1,-1)"
   ]
  },
  {
   "cell_type": "code",
   "execution_count": 37,
   "metadata": {},
   "outputs": [
    {
     "data": {
      "text/plain": [
       "(1, 100)"
      ]
     },
     "execution_count": 37,
     "metadata": {},
     "output_type": "execute_result"
    }
   ],
   "source": [
    "x_input.shape"
   ]
  },
  {
   "cell_type": "code",
   "execution_count": 38,
   "metadata": {},
   "outputs": [],
   "source": [
    "list_input = list(x_input)\n",
    "list_input = list_input[0].tolist()"
   ]
  },
  {
   "cell_type": "code",
   "execution_count": 39,
   "metadata": {},
   "outputs": [
    {
     "data": {
      "text/plain": [
       "[0.32148692810457513,\n",
       " 0.32352941176470584,\n",
       " 0.32557189542483667,\n",
       " 0.32638888888888884,\n",
       " 0.33496732026143783,\n",
       " 0.34395424836601307,\n",
       " 0.34415849673202614,\n",
       " 0.3459967320261438,\n",
       " 0.3586601307189542,\n",
       " 0.3558006535947713,\n",
       " 0.372140522875817,\n",
       " 0.3629493464052288,\n",
       " 0.37540849673202614,\n",
       " 0.36315359477124176,\n",
       " 0.3464052287581699,\n",
       " 0.3457924836601307,\n",
       " 0.34844771241830064,\n",
       " 0.357843137254902,\n",
       " 0.3472222222222222,\n",
       " 0.33353758169934633,\n",
       " 0.3353758169934641,\n",
       " 0.3368055555555556,\n",
       " 0.3368055555555556,\n",
       " 0.32271241830065356,\n",
       " 0.32638888888888884,\n",
       " 0.3188316993464052,\n",
       " 0.33986928104575165,\n",
       " 0.3776552287581699,\n",
       " 0.3999183006535948,\n",
       " 0.36968954248366004,\n",
       " 0.3588643790849674,\n",
       " 0.3592728758169935,\n",
       " 0.3529411764705882,\n",
       " 0.3210784313725491,\n",
       " 0.31413398692810457,\n",
       " 0.3174019607843137,\n",
       " 0.3159722222222222,\n",
       " 0.32209967320261446,\n",
       " 0.2826797385620915,\n",
       " 0.2849264705882353,\n",
       " 0.27389705882352944,\n",
       " 0.2877859477124183,\n",
       " 0.3018790849673202,\n",
       " 0.3104575163398692,\n",
       " 0.32128267973856206,\n",
       " 0.3145424836601307,\n",
       " 0.33129084967320266,\n",
       " 0.3329248366013071,\n",
       " 0.3280228758169934,\n",
       " 0.32291666666666663,\n",
       " 0.3280228758169934,\n",
       " 0.3231209150326798,\n",
       " 0.30718954248366015,\n",
       " 0.29595588235294124,\n",
       " 0.3047385620915033,\n",
       " 0.28288398692810457,\n",
       " 0.289828431372549,\n",
       " 0.3041258169934641,\n",
       " 0.2642973856209151,\n",
       " 0.252859477124183,\n",
       " 0.20710784313725494,\n",
       " 0.20261437908496738,\n",
       " 0.19566993464052285,\n",
       " 0.1954656862745099,\n",
       " 0.2046568627450981,\n",
       " 0.18974673202614378,\n",
       " 0.19934640522875813,\n",
       " 0.19424019607843135,\n",
       " 0.2152777777777778,\n",
       " 0.21629901960784315,\n",
       " 0.21834150326797386,\n",
       " 0.21997549019607843,\n",
       " 0.2222222222222222,\n",
       " 0.22753267973856206,\n",
       " 0.227328431372549,\n",
       " 0.22324346405228757,\n",
       " 0.2152777777777778,\n",
       " 0.20690359477124176,\n",
       " 0.20200163398692816,\n",
       " 0.1995506535947713,\n",
       " 0.20159313725490202,\n",
       " 0.18075980392156865,\n",
       " 0.1917892156862745,\n",
       " 0.19403594771241828,\n",
       " 0.19566993464052285,\n",
       " 0.2044526143790849,\n",
       " 0.20772058823529416,\n",
       " 0.21221405228758172,\n",
       " 0.21956699346405217,\n",
       " 0.21629901960784315,\n",
       " 0.21629901960784315,\n",
       " 0.22140522875816993,\n",
       " 0.21200980392156854,\n",
       " 0.20547385620915026,\n",
       " 0.20077614379084963,\n",
       " 0.19975490196078427,\n",
       " 0.2001633986928104,\n",
       " 0.20506535947712423,\n",
       " 0.20057189542483667,\n",
       " 0.18831699346405228]"
      ]
     },
     "execution_count": 39,
     "metadata": {},
     "output_type": "execute_result"
    }
   ],
   "source": [
    "list_input"
   ]
  },
  {
   "cell_type": "markdown",
   "metadata": {},
   "source": [
    "## <center>Thank You</center>"
   ]
  },
  {
   "cell_type": "code",
   "execution_count": null,
   "metadata": {},
   "outputs": [],
   "source": []
  }
 ],
 "metadata": {
  "kernelspec": {
   "display_name": "Python 3 (ipykernel)",
   "language": "python",
   "name": "python3"
  },
  "language_info": {
   "codemirror_mode": {
    "name": "ipython",
    "version": 3
   },
   "file_extension": ".py",
   "mimetype": "text/x-python",
   "name": "python",
   "nbconvert_exporter": "python",
   "pygments_lexer": "ipython3",
   "version": "3.9.7"
  }
 },
 "nbformat": 4,
 "nbformat_minor": 4
}
